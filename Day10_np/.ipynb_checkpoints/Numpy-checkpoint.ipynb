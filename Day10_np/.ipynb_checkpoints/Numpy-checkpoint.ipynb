{
 "cells": [
  {
   "cell_type": "code",
   "execution_count": 150,
   "id": "de7f5e39-5b9a-4bdd-b938-035eb7364e89",
   "metadata": {},
   "outputs": [],
   "source": [
    "import numpy as np"
   ]
  },
  {
   "cell_type": "code",
   "execution_count": 151,
   "id": "93309393-30b5-4154-bb68-f4c4d3be47e9",
   "metadata": {},
   "outputs": [],
   "source": [
    "#Q1  Write a NumPy program to create an array with the values 1, 7, 13, 105    and determine the size of the memory occupied by the array."
   ]
  },
  {
   "cell_type": "code",
   "execution_count": 152,
   "id": "4bdd0336-bceb-4d3d-8eb9-59855f3a6166",
   "metadata": {},
   "outputs": [
    {
     "name": "stdout",
     "output_type": "stream",
     "text": [
      "size : 32\n"
     ]
    }
   ],
   "source": [
    "def func1():\n",
    "    n1 = np.array([1,7,13,105])\n",
    "    print(f\"size : {n1.nbytes}\")\n",
    "\n",
    "func1()"
   ]
  },
  {
   "cell_type": "code",
   "execution_count": 11,
   "id": "f2e6a7a2-3e88-4c4f-a458-326b87a5cb5a",
   "metadata": {},
   "outputs": [],
   "source": [
    "#Q2. Write a NumPy program to create an element-wise comparison (greater,    greater_equal, less and less_equal) of two given arrays."
   ]
  },
  {
   "cell_type": "code",
   "execution_count": 153,
   "id": "471181ce-7525-4de1-8283-1b8d86f8c879",
   "metadata": {},
   "outputs": [
    {
     "name": "stdout",
     "output_type": "stream",
     "text": [
      "[11 43 56 78]\n",
      "[ 2 45 90 17]\n",
      "Greater than\n",
      "[ True False False  True]\n",
      "Greater equl\n",
      "[ True False False  True]\n",
      "Less than\n",
      "[False  True  True False]\n",
      "Less equal\n",
      "[False  True  True False]\n"
     ]
    }
   ],
   "source": [
    "def func2():\n",
    "    n2 = np.array([11,43,56,78])\n",
    "    n3 = np.array([2,45,90,17])\n",
    "    print(n2)\n",
    "    print(n3)\n",
    "    print(f\"Greater than\")\n",
    "    n4=n2>n3\n",
    "    print(n4)\n",
    "    print(f\"Greater equl\")\n",
    "    n4=(n2>=n3)\n",
    "    print(n4)\n",
    "    print(f\"Less than\")\n",
    "    n4= n2<n3\n",
    "    print(n4)\n",
    "    print(f\"Less equal\")\n",
    "    n4= (n2<=n3)\n",
    "    print(n4)\n",
    "\n",
    "func2()"
   ]
  },
  {
   "cell_type": "code",
   "execution_count": 14,
   "id": "4e2e6524-2071-42ca-af22-50febfe0cfec",
   "metadata": {},
   "outputs": [],
   "source": [
    "#Q3 Write a NumPy program to create an array of 10 zeros, 10 ones, 10    fives, 10 tens, 10 twentys and 10 fiftys."
   ]
  },
  {
   "cell_type": "code",
   "execution_count": 154,
   "id": "c316e168-517a-45cb-98ed-e7de1dcab193",
   "metadata": {},
   "outputs": [
    {
     "name": "stdout",
     "output_type": "stream",
     "text": [
      "[0. 0. 0. 0. 0. 0. 0. 0. 0. 0.]\n",
      "[1. 1. 1. 1. 1. 1. 1. 1. 1. 1.]\n",
      "[5. 5. 5. 5. 5. 5. 5. 5. 5. 5.]\n",
      "[10. 10. 10. 10. 10. 10. 10. 10. 10. 10.]\n",
      "[20. 20. 20. 20. 20. 20. 20. 20. 20. 20.]\n",
      "[50. 50. 50. 50. 50. 50. 50. 50. 50. 50.]\n"
     ]
    }
   ],
   "source": [
    "def func3():\n",
    "    arr1 = np.zeros(10)\n",
    "    print(arr1)\n",
    "    arr2 = np.ones(10)\n",
    "    print(arr2)\n",
    "    arr3 = (np.ones(10)*5)\n",
    "    print(arr3)\n",
    "    arr4 = (np.ones(10)*10)\n",
    "    print(arr4)\n",
    "    arr5 = (np.ones(10)*20)\n",
    "    print(arr5)\n",
    "    arr6 = (np.ones(10)*50)\n",
    "    print(arr6)\n",
    "\n",
    "func3()"
   ]
  },
  {
   "cell_type": "code",
   "execution_count": 23,
   "id": "679ff2b8-8959-49c8-9b45-3e6450449736",
   "metadata": {},
   "outputs": [],
   "source": [
    "#Q4 Write a NumPy program to create an array of integers from 30 to 70."
   ]
  },
  {
   "cell_type": "code",
   "execution_count": 161,
   "id": "f2ad6b33-05da-40bc-8bd6-fe40fa5fb86c",
   "metadata": {},
   "outputs": [
    {
     "name": "stdout",
     "output_type": "stream",
     "text": [
      "[30 31 32 33 34 35 36 37 38 39 40 41 42 43 44 45 46 47 48 49 50 51 52 53\n",
      " 54 55 56 57 58 59 60 61 62 63 64 65 66 67 68 69 70]\n"
     ]
    }
   ],
   "source": [
    "def func4():\n",
    "    arr1 = np.arange(30,71)\n",
    "    print(arr1)\n",
    "\n",
    "func4()"
   ]
  },
  {
   "cell_type": "code",
   "execution_count": 162,
   "id": "ad096a2e-2bd5-4798-bf47-cee3dd1ec471",
   "metadata": {},
   "outputs": [],
   "source": [
    "#Q5. Write a NumPy program to create an array of integers from 50 to 95."
   ]
  },
  {
   "cell_type": "code",
   "execution_count": 163,
   "id": "b86aaa0f-c07e-4925-9c0a-b51530e017b2",
   "metadata": {},
   "outputs": [
    {
     "name": "stdout",
     "output_type": "stream",
     "text": [
      "[50 51 52 53 54 55 56 57 58 59 60 61 62 63 64 65 66 67 68 69 70 71 72 73\n",
      " 74 75 76 77 78 79 80 81 82 83 84 85 86 87 88 89 90 91 92 93 94 95]\n"
     ]
    }
   ],
   "source": [
    "def func5():\n",
    "    arr1 = np.arange(50,96)\n",
    "    print(arr1)\n",
    "\n",
    "func5()"
   ]
  },
  {
   "cell_type": "code",
   "execution_count": 164,
   "id": "57cb7e68-6f7c-49f9-abdf-d42522631556",
   "metadata": {},
   "outputs": [],
   "source": [
    "#Q6. Write a NumPy program to create an array of all even integers from 20 to 80."
   ]
  },
  {
   "cell_type": "code",
   "execution_count": 165,
   "id": "ed15813a-4019-48f7-8d3c-6225a0de35fa",
   "metadata": {},
   "outputs": [
    {
     "name": "stdout",
     "output_type": "stream",
     "text": [
      "[20 22 24 26 28 30 32 34 36 38 40 42 44 46 48 50 52 54 56 58 60 62 64 66\n",
      " 68 70 72 74 76 78]\n"
     ]
    }
   ],
   "source": [
    "def func6():\n",
    "    arr1 = np.arange(20,80,2)\n",
    "    print(arr1)\n",
    "\n",
    "func6()"
   ]
  },
  {
   "cell_type": "code",
   "execution_count": 166,
   "id": "427a06f3-bcc2-4fb7-b309-9b6eaf9c8b8f",
   "metadata": {},
   "outputs": [],
   "source": [
    "#Q7. Write a NumPy program to create an array of all odd integers from 20 to 80."
   ]
  },
  {
   "cell_type": "code",
   "execution_count": 168,
   "id": "145f0dd9-3ca5-4141-8cf2-778f70f281c9",
   "metadata": {},
   "outputs": [
    {
     "name": "stdout",
     "output_type": "stream",
     "text": [
      "[21 23 25 27 29 31 33 35 37 39 41 43 45 47 49 51 53 55 57 59 61 63 65 67\n",
      " 69 71 73 75 77 79]\n"
     ]
    }
   ],
   "source": [
    "def func7():\n",
    "    arr1 = np.arange(20+1,80,2)\n",
    "    print(arr1)\n",
    "\n",
    "func7()"
   ]
  },
  {
   "cell_type": "code",
   "execution_count": 36,
   "id": "e743b342-c53c-43af-9e14-3df82233ab97",
   "metadata": {},
   "outputs": [],
   "source": [
    "#Q8. Write a NumPy program to generate an array of 15 random numbers from 10    to 40"
   ]
  },
  {
   "cell_type": "code",
   "execution_count": 170,
   "id": "c7cafd06-7de3-481c-b26a-1604d8bc4715",
   "metadata": {},
   "outputs": [
    {
     "name": "stdout",
     "output_type": "stream",
     "text": [
      "[19 27 36 23 25 26 27 37 23 39 16 21 21 35 13]\n"
     ]
    }
   ],
   "source": [
    "def func8():\n",
    "    arr1= np.random.randint(10,40,15)\n",
    "    print(arr1)\n",
    "\n",
    "func8()"
   ]
  },
  {
   "cell_type": "code",
   "execution_count": 40,
   "id": "72754239-8f38-48d5-be37-b2b3f478412e",
   "metadata": {},
   "outputs": [],
   "source": [
    "#Q9. Write a NumPy program to generate an array of 10 random numbers from 30    to 50."
   ]
  },
  {
   "cell_type": "code",
   "execution_count": 41,
   "id": "98bb6b17-0b87-4b79-b020-1a14bd4f6ad0",
   "metadata": {},
   "outputs": [
    {
     "name": "stdout",
     "output_type": "stream",
     "text": [
      "[41 49 30 42 45 48 48 40 39 45]\n"
     ]
    }
   ],
   "source": [
    "def func9():\n",
    "    arr1 = np.random.randint(30,50,10)\n",
    "    print(arr1)\n",
    "\n",
    "func9()"
   ]
  },
  {
   "cell_type": "code",
   "execution_count": 42,
   "id": "da23eb73-09d3-48ff-ac64-07cec8d84ea5",
   "metadata": {},
   "outputs": [],
   "source": [
    "#Q10. Write a NumPy program to generate an array of 20 random numbers from 50    to 90."
   ]
  },
  {
   "cell_type": "code",
   "execution_count": 171,
   "id": "7ee7ee77-6d58-4841-b53d-6a7deee62e67",
   "metadata": {},
   "outputs": [
    {
     "name": "stdout",
     "output_type": "stream",
     "text": [
      "[79 76 60 61 70 75 70 73 71 64 75 71 75 87 78 51 54 62 78 84]\n"
     ]
    }
   ],
   "source": [
    "def func10():\n",
    "    arr1 = np.random.randint(50,90,20)\n",
    "    print(arr1)\n",
    "\n",
    "func10()"
   ]
  },
  {
   "cell_type": "code",
   "execution_count": 46,
   "id": "1dc06192-84f5-472f-b103-953c233ab463",
   "metadata": {},
   "outputs": [],
   "source": [
    "#Q11. Create any two arrays & perform various mathematical operations.    i.e. Addition, Substraction, Multiplication, Divide."
   ]
  },
  {
   "cell_type": "code",
   "execution_count": 172,
   "id": "8458147c-f6a1-4d5e-860d-08f69e4f2359",
   "metadata": {},
   "outputs": [
    {
     "name": "stdout",
     "output_type": "stream",
     "text": [
      "[ 7 15 31 99 48]\n",
      "[ -3  -5  -5  11 -30]\n",
      "[  10   50  234 2420  351]\n",
      "[0.4        0.5        0.72222222 1.25       0.23076923]\n"
     ]
    }
   ],
   "source": [
    "def func11():\n",
    "    arr1 = np.array([2,5,13,55,9])\n",
    "    arr2 = np.array([5,10,18,44,39])\n",
    "    print(arr1+arr2)\n",
    "    print(arr1-arr2)\n",
    "    print(arr1*arr2)\n",
    "    print(arr1/arr2)\n",
    "\n",
    "func11()"
   ]
  },
  {
   "cell_type": "code",
   "execution_count": 49,
   "id": "b1ce5ca7-dedc-4f7e-b816-0d5a2ac3d79c",
   "metadata": {},
   "outputs": [],
   "source": [
    "#Q12. Write a NumPy program to create a 3x4 matrix filled with values from 10     to 21."
   ]
  },
  {
   "cell_type": "code",
   "execution_count": 173,
   "id": "87201cfa-18e7-4a40-85b8-0c1b1d735043",
   "metadata": {},
   "outputs": [
    {
     "name": "stdout",
     "output_type": "stream",
     "text": [
      "[[19 15 16 19]\n",
      " [13 10 10 14]\n",
      " [12 11 13 10]]\n"
     ]
    }
   ],
   "source": [
    "def func12():\n",
    "    arr1 = np.random.randint(10,21,12)\n",
    "    arr1 = arr1.reshape([3,4])\n",
    "    print(arr1)\n",
    "\n",
    "func12()"
   ]
  },
  {
   "cell_type": "code",
   "execution_count": 56,
   "id": "6e918617-f957-4548-b6b1-9a4f5de237eb",
   "metadata": {},
   "outputs": [],
   "source": [
    "#Q13. Write a NumPy program to create a 3x3 identity matrix, i.e. the diagonal     elements are 1, the rest are 0."
   ]
  },
  {
   "cell_type": "code",
   "execution_count": 174,
   "id": "80bd66d0-d2aa-4e7e-acde-1ffbab196488",
   "metadata": {},
   "outputs": [
    {
     "name": "stdout",
     "output_type": "stream",
     "text": [
      "[[1. 0. 0.]\n",
      " [0. 1. 0.]\n",
      " [0. 0. 1.]]\n"
     ]
    }
   ],
   "source": [
    "def func13():\n",
    "    arr1 = np.eye(3)\n",
    "    print(arr1)\n",
    "\n",
    "func13()"
   ]
  },
  {
   "cell_type": "code",
   "execution_count": 75,
   "id": "068cfd23-b78a-4828-ab84-87c0544b937b",
   "metadata": {},
   "outputs": [],
   "source": [
    "#Q14. Write a NumPy program to find the number of rows and columns in a given     matrix. "
   ]
  },
  {
   "cell_type": "code",
   "execution_count": 179,
   "id": "7cec721f-9c69-4732-8c11-24ba76f64574",
   "metadata": {},
   "outputs": [
    {
     "name": "stdout",
     "output_type": "stream",
     "text": [
      "{(5, 5)}\n"
     ]
    }
   ],
   "source": [
    "def func14():\n",
    "    arr1 = np.diag([1,2,3,4,5])\n",
    "    print({arr1.shape})\n",
    "\n",
    "func14()"
   ]
  },
  {
   "cell_type": "code",
   "execution_count": 78,
   "id": "9b34038b-5dab-42a9-8cbe-8e5ce72c11dc",
   "metadata": {},
   "outputs": [],
   "source": [
    "#Q15. Write a NumPy program to create a 5x5 zero matrix with elements on the     main diagonal equal to 1, 2, 3, 4, 5."
   ]
  },
  {
   "cell_type": "code",
   "execution_count": 181,
   "id": "d1c1a327-5116-41d7-9958-db8533a2e9f0",
   "metadata": {},
   "outputs": [
    {
     "name": "stdout",
     "output_type": "stream",
     "text": [
      "[[1 0 0 0 0]\n",
      " [0 2 0 0 0]\n",
      " [0 0 3 0 0]\n",
      " [0 0 0 4 0]\n",
      " [0 0 0 0 5]]\n"
     ]
    }
   ],
   "source": [
    "def func15():\n",
    "    arr1 = np.diag([1,2,3,4,5])\n",
    "    print(arr1)\n",
    "\n",
    "func15()"
   ]
  },
  {
   "cell_type": "code",
   "execution_count": 91,
   "id": "17e54378-2409-4fdf-a7c0-fd69b95cc338",
   "metadata": {},
   "outputs": [],
   "source": [
    "#Q16. Write a NumPy program to create a 3x3x3 array filled with arbitrary     values."
   ]
  },
  {
   "cell_type": "code",
   "execution_count": 183,
   "id": "07478e15-70da-4872-a665-50ca64ff041d",
   "metadata": {},
   "outputs": [
    {
     "name": "stdout",
     "output_type": "stream",
     "text": [
      "[[[0.64739894 0.51733882 0.22758155]\n",
      "  [0.6136965  0.72442559 0.70255392]\n",
      "  [0.54880868 0.31642512 0.80550558]]\n",
      "\n",
      " [[0.55528166 0.14115728 0.58831215]\n",
      "  [0.79438838 0.5609595  0.5235498 ]\n",
      "  [0.84878121 0.33036909 0.23589262]]\n",
      "\n",
      " [[0.47824919 0.29550458 0.19867027]\n",
      "  [0.30513528 0.9451079  0.44979207]\n",
      "  [0.91576208 0.26914318 0.70263475]]]\n"
     ]
    }
   ],
   "source": [
    "def func16():\n",
    "    arr1= np.random.random([3,3,3])\n",
    "    print(arr1)\n",
    "\n",
    "func16()"
   ]
  },
  {
   "cell_type": "code",
   "execution_count": 134,
   "id": "059bd9ed-5be3-4411-84d6-89e48b7fcb39",
   "metadata": {},
   "outputs": [],
   "source": [
    "#Q17. Write a NumPy program to create a 2x3x4 array filled with arbitrary     values."
   ]
  },
  {
   "cell_type": "code",
   "execution_count": 185,
   "id": "3cc98721-aa31-46af-927c-6befe3c5c215",
   "metadata": {},
   "outputs": [
    {
     "name": "stdout",
     "output_type": "stream",
     "text": [
      "[[[0.0668817  0.51539006 0.97997233 0.08476895]\n",
      "  [0.07316442 0.97903055 0.07484993 0.61199388]\n",
      "  [0.55399767 0.81411874 0.30523069 0.22723414]]\n",
      "\n",
      " [[0.26920507 0.14127997 0.69147442 0.05990459]\n",
      "  [0.64805556 0.36936691 0.35265885 0.51128668]\n",
      "  [0.38102559 0.8519672  0.47055858 0.56936086]]]\n"
     ]
    }
   ],
   "source": [
    "def func17():\n",
    "    arr2 = np.random.random([2,3,4])\n",
    "    print(arr2)\n",
    "\n",
    "func17()"
   ]
  },
  {
   "cell_type": "code",
   "execution_count": 138,
   "id": "1ff33ba3-3a1b-46ee-be67-6d5b21d2d92a",
   "metadata": {},
   "outputs": [],
   "source": [
    "#Q18. Write a NumPy program to convert a list of numeric values into a one-    dimensional NumPy array."
   ]
  },
  {
   "cell_type": "code",
   "execution_count": 186,
   "id": "1c0dc3f6-43a5-4711-a4fd-36237269e029",
   "metadata": {},
   "outputs": [
    {
     "name": "stdout",
     "output_type": "stream",
     "text": [
      "[1 2 3 4 5 6]\n"
     ]
    }
   ],
   "source": [
    "def func18():\n",
    "    arr2 = [1,2,3,4,5,6]\n",
    "    arr2 = np.array(arr2)\n",
    "    print(arr2)\n",
    "\n",
    "func18()"
   ]
  },
  {
   "cell_type": "code",
   "execution_count": 133,
   "id": "9ac257b7-acf1-4343-90be-5c7ad2776fb6",
   "metadata": {},
   "outputs": [],
   "source": [
    "#Q19. Write a NumPy program to create a 3x3 matrix with values ranging from 2     to 10."
   ]
  },
  {
   "cell_type": "code",
   "execution_count": 187,
   "id": "8b09228b-b1c1-47ec-ab31-f6a172556e9b",
   "metadata": {},
   "outputs": [
    {
     "name": "stdout",
     "output_type": "stream",
     "text": [
      "[[ 2  3  4]\n",
      " [ 5  6  7]\n",
      " [ 8  9 10]]\n"
     ]
    }
   ],
   "source": [
    "def func19():\n",
    "    arr2 = np.arange(2,11)\n",
    "    arr2 = arr2.reshape([3,3])\n",
    "    print(arr2)\n",
    "\n",
    "func19()"
   ]
  },
  {
   "cell_type": "code",
   "execution_count": 99,
   "id": "a462c363-50ef-40bb-8c02-09f31d083f4e",
   "metadata": {},
   "outputs": [],
   "source": [
    "#Q20. Write a NumPy program to create an array with values ranging from 12 to 38."
   ]
  },
  {
   "cell_type": "code",
   "execution_count": 188,
   "id": "f6e8a447-61be-417c-91d3-324b4dba4541",
   "metadata": {},
   "outputs": [
    {
     "name": "stdout",
     "output_type": "stream",
     "text": [
      "[12 13 14 15 16 17 18 19 20 21 22 23 24 25 26 27 28 29 30 31 32 33 34 35\n",
      " 36 37 38]\n"
     ]
    }
   ],
   "source": [
    "def func20():\n",
    "    arr2= np.arange(12,39)\n",
    "    print(arr2)\n",
    "\n",
    "func20()"
   ]
  },
  {
   "cell_type": "code",
   "execution_count": null,
   "id": "b8497819-a9fe-4dbe-bff9-1ca07ebf23b5",
   "metadata": {},
   "outputs": [],
   "source": [
    "#Q21. Write a NumPy program to reverse an array (the first element becomes the last)."
   ]
  },
  {
   "cell_type": "code",
   "execution_count": 190,
   "id": "707eaa96-9e5d-4b3e-b54e-4327cf2bdca6",
   "metadata": {},
   "outputs": [
    {
     "name": "stdout",
     "output_type": "stream",
     "text": [
      "[10 11 12 13 14 15 16 17 18 19]\n",
      "Reverse : [19 18 17 16 15 14 13 12 11 10]\n"
     ]
    }
   ],
   "source": [
    "def func21():\n",
    "    arr2 = np.arange(10,20)\n",
    "    print(arr2)\n",
    "    arr2 = arr2[::-1]\n",
    "    print(f\"Reverse : {arr2}\")\n",
    "\n",
    "func21()"
   ]
  },
  {
   "cell_type": "code",
   "execution_count": 101,
   "id": "87e336c7-8664-4cc2-a753-ac28deb8fbcb",
   "metadata": {},
   "outputs": [],
   "source": [
    "#Q22. Write a NumPy program to convert an data type into to a floating type."
   ]
  },
  {
   "cell_type": "code",
   "execution_count": 192,
   "id": "76bd7b7e-4e80-4d5f-a486-f0a7faa33347",
   "metadata": {},
   "outputs": [
    {
     "name": "stdout",
     "output_type": "stream",
     "text": [
      "float : [1. 2. 3. 4. 5.]\n"
     ]
    }
   ],
   "source": [
    "def func22():\n",
    "    arr2 = [1,2,3,4,5]\n",
    "    arr2 = np.asfarray(arr2)\n",
    "    print(f\"float : {arr2}\")\n",
    "\n",
    "func22()"
   ]
  },
  {
   "cell_type": "code",
   "execution_count": null,
   "id": "a1cd3bc6-9b3e-46a5-ad4d-f012dac139a7",
   "metadata": {},
   "outputs": [],
   "source": [
    "#Q23. Write a NumPy program to convert a list array."
   ]
  },
  {
   "cell_type": "code",
   "execution_count": 193,
   "id": "7b3e945a-b7a4-4b4e-9652-1d709a76ce98",
   "metadata": {},
   "outputs": [
    {
     "name": "stdout",
     "output_type": "stream",
     "text": [
      "array: [1 2 3 4 5 6]\n"
     ]
    }
   ],
   "source": [
    "def func23():\n",
    "    arr2 = [1,2,3,4,5,6]\n",
    "    arr2 = np.asarray(arr2)\n",
    "    print(f\"array: {arr2}\")\n",
    "\n",
    "func23()"
   ]
  },
  {
   "cell_type": "code",
   "execution_count": 111,
   "id": "e9187f3e-9940-4ecd-b198-3a6faf3a8190",
   "metadata": {},
   "outputs": [],
   "source": [
    "#Q24. Write a NumPy program to get the element-wise remainder of an array of division."
   ]
  },
  {
   "cell_type": "code",
   "execution_count": 195,
   "id": "3e3c61ec-a599-412d-ba27-a206f85fd7c5",
   "metadata": {},
   "outputs": [
    {
     "name": "stdout",
     "output_type": "stream",
     "text": [
      "[52 49 67  7]\n"
     ]
    }
   ],
   "source": [
    "def func24():\n",
    "    arr2 = np.random.randint(1,80,4)\n",
    "    arr3 = np.random.randint(32,90,4)\n",
    "    print(arr2%arr3)\n",
    "\n",
    "func24()"
   ]
  },
  {
   "cell_type": "code",
   "execution_count": 113,
   "id": "a1fddd15-977d-47eb-8f6b-31c1201648ff",
   "metadata": {},
   "outputs": [],
   "source": [
    "#Q25. Write a NumPy program to get the element-wise remainder of an array of numbers from 20 to 50 which are divisible by 3."
   ]
  },
  {
   "cell_type": "code",
   "execution_count": 196,
   "id": "58e0d784-b4d6-44ed-bb2b-14e2ac68e5bb",
   "metadata": {},
   "outputs": [
    {
     "name": "stdout",
     "output_type": "stream",
     "text": [
      "[2 0 1 2 0 1 2 0 1 2 0 1 2 0 1 2 0 1 2 0 1 2 0 1 2 0 1 2 0 1]\n"
     ]
    }
   ],
   "source": [
    "def func25():\n",
    "    arr2 = np.arange(20,50)\n",
    "    print(arr2%3)\n",
    "\n",
    "func25()"
   ]
  },
  {
   "cell_type": "code",
   "execution_count": null,
   "id": "0d0bf080-58f2-487b-a89a-25a5a6032f83",
   "metadata": {},
   "outputs": [],
   "source": []
  }
 ],
 "metadata": {
  "kernelspec": {
   "display_name": "Python 3 (ipykernel)",
   "language": "python",
   "name": "python3"
  },
  "language_info": {
   "codemirror_mode": {
    "name": "ipython",
    "version": 3
   },
   "file_extension": ".py",
   "mimetype": "text/x-python",
   "name": "python",
   "nbconvert_exporter": "python",
   "pygments_lexer": "ipython3",
   "version": "3.10.12"
  }
 },
 "nbformat": 4,
 "nbformat_minor": 5
}
